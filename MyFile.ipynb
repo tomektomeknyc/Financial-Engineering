{
 "cells": [
  {
   "cell_type": "code",
   "execution_count": 3,
   "id": "5eebfa48-62cb-4007-98f7-a88af017f45e",
   "metadata": {},
   "outputs": [
    {
     "name": "stdout",
     "output_type": "stream",
     "text": [
      "1\n"
     ]
    }
   ],
   "source": [
    "import numpy as np\n",
    "\n",
    "a = [1,1,0]\n",
    "b = [1,0,1]\n",
    " \n",
    "# Calculating dot product using dot()\n",
    "print(np.dot(a, b))\n",
    "\n"
   ]
  },
  {
   "cell_type": "code",
   "execution_count": 5,
   "id": "3f4a3ae2-4545-4e96-b636-793ac0a64e95",
   "metadata": {},
   "outputs": [
    {
     "name": "stdout",
     "output_type": "stream",
     "text": [
      "[1 1 0]\n",
      "1.4142135623730951\n"
     ]
    }
   ],
   "source": [
    "# l2 norm of a vector\n",
    "from numpy import array\n",
    "from numpy.linalg import norm\n",
    "a = array([1, 1, 0])\n",
    "print(a)\n",
    "l2 = norm(a)\n",
    "print(l2)\n"
   ]
  },
  {
   "cell_type": "code",
   "execution_count": 8,
   "id": "5b73736a-9ccd-4f88-973d-fe74a2d6d78b",
   "metadata": {},
   "outputs": [
    {
     "name": "stdout",
     "output_type": "stream",
     "text": [
      "[1 0 1]\n",
      "1.4142135623730951\n"
     ]
    }
   ],
   "source": [
    "# l2 norm of a vector\n",
    "from numpy import array\n",
    "from numpy.linalg import norm\n",
    "a = array([1, 0, 1])\n",
    "print(a)\n",
    "l2 = norm(a)\n",
    "print(l2)"
   ]
  },
  {
   "cell_type": "code",
   "execution_count": 10,
   "id": "5f4930ec-a1d7-4f3c-b9f2-eb4fb7ad6e25",
   "metadata": {},
   "outputs": [
    {
     "name": "stdout",
     "output_type": "stream",
     "text": [
      "[1 1 0]\n",
      "2.0\n"
     ]
    }
   ],
   "source": [
    "# l1 norm of a vector\n",
    "from numpy import array\n",
    "from numpy.linalg import norm\n",
    "a = array([1, 1, 0])\n",
    "print(a)\n",
    "l1 = norm(a, 1)\n",
    "print(l1)"
   ]
  },
  {
   "cell_type": "code",
   "execution_count": 12,
   "id": "1138f18c-1ffc-4914-a700-67abb638d660",
   "metadata": {},
   "outputs": [
    {
     "name": "stdout",
     "output_type": "stream",
     "text": [
      "[1 0 1]\n",
      "2.0\n"
     ]
    }
   ],
   "source": [
    "# l1 norm of a vector\n",
    "from numpy import array\n",
    "from numpy.linalg import norm\n",
    "a = array([1, 0, 1])\n",
    "print(a)\n",
    "l1 = norm(a, 1)\n",
    "print(l1)"
   ]
  },
  {
   "cell_type": "code",
   "execution_count": 27,
   "id": "32bc80af-d978-4731-9143-76eaf0a85af1",
   "metadata": {},
   "outputs": [],
   "source": [
    "%load_ext autoreload\n",
    "%autoreload 2\n",
    "\n",
    "import pandas as pd\n",
    "import numpy as np\n",
    "import risk_kit as rk\n",
    "from pricing_models import StockPricing, FuturesPricing, OptionsPricing"
   ]
  },
  {
   "cell_type": "code",
   "execution_count": 30,
   "id": "dd0c1ec7-1f00-4f45-a042-b2d3f02e332f",
   "metadata": {},
   "outputs": [],
   "source": [
    "## Building  15 period binomial model with parameters to be calibrated to a Black-Scholes geometric Brownian\n",
    "## motion model with: T= .25 years , S0 = 100, r = 2%, st dev = 30% and dividend yield of c = 1%\n"
   ]
  },
  {
   "cell_type": "code",
   "execution_count": 33,
   "id": "8f91f67d-18c9-41a0-b138-f8a20832b6d1",
   "metadata": {},
   "outputs": [],
   "source": [
    "# Setting Paramters\n",
    "periods = 15\n",
    "T = 0.25\n",
    "S0 = 100.00\n",
    "r = 0.02\n",
    "sigma = 0.3\n",
    "c = 0.01"
   ]
  },
  {
   "cell_type": "code",
   "execution_count": 36,
   "id": "d2e472b8-3800-4b5c-bea0-da720c16884c",
   "metadata": {},
   "outputs": [],
   "source": [
    "binomial_params = rk.blackscholes_to_binomial(r, sigma, periods, T, c)\n",
    "u = binomial_params['upward_drift']\n",
    "d  = binomial_params['downward_drift']\n",
    "div = binomial_params['dividend_per_period']\n",
    "rfr = binomial_params['risk_free_rate']\n",
    "pricing_model =StockPricing(n=periods, S0=S0, u=u, d=d, c=div)\n"
   ]
  },
  {
   "cell_type": "code",
   "execution_count": 38,
   "id": "7cd98ac4-8749-469a-80ef-6d936afce8ce",
   "metadata": {},
   "outputs": [],
   "source": [
    "# Q 1 Compute the price of an American call option with strike K=110 and maturity T=.25 years"
   ]
  },
  {
   "cell_type": "code",
   "execution_count": 40,
   "id": "162c2bf6-a541-4d98-ba85-ed2edb78934e",
   "metadata": {},
   "outputs": [
    {
     "data": {
      "text/plain": [
       "2.6"
      ]
     },
     "execution_count": 40,
     "metadata": {},
     "output_type": "execute_result"
    }
   ],
   "source": [
    "K = 110\n",
    "is_call = True\n",
    "is_american = True\n",
    "q = ((1+rfr)-d - div)/ (u-d)\n",
    "call_option = OptionsPricing(n= periods,\n",
    "                            model=pricing_model,\n",
    "                            r = rfr,\n",
    "                            q=q,\n",
    "                            K=K,\n",
    "                            is_call = is_call,\n",
    "                            is_american = is_american)\n",
    "round(call_option.price, 2)"
   ]
  },
  {
   "cell_type": "code",
   "execution_count": 42,
   "id": "593677e2-6db2-4955-8495-3c8a3f7054e4",
   "metadata": {},
   "outputs": [],
   "source": [
    "#Q 2 Compute the price of an American put option with strike K=110 and maturity T=.25"
   ]
  },
  {
   "cell_type": "code",
   "execution_count": 45,
   "id": "5fc1d785-89ca-4927-80f2-1e4cfea72583",
   "metadata": {},
   "outputs": [
    {
     "data": {
      "text/plain": [
       "12.36"
      ]
     },
     "execution_count": 45,
     "metadata": {},
     "output_type": "execute_result"
    }
   ],
   "source": [
    "K = 110\n",
    "is_call = False\n",
    "is_american = True\n",
    "\n",
    "q = ((1+ rfr) -d -div)/(u-d)\n",
    "put_option = OptionsPricing(n=periods,\n",
    "                           model=pricing_model,\n",
    "                           r = rfr,\n",
    "                           q=q,\n",
    "                           K=K,\n",
    "                           is_call=is_call,\n",
    "                           is_american = is_american)\n",
    "round(put_option.price,2)\n"
   ]
  },
  {
   "cell_type": "code",
   "execution_count": 47,
   "id": "90b4c40d-eb9d-4338-9233-4fa0019eb454",
   "metadata": {},
   "outputs": [
    {
     "data": {
      "text/plain": [
       "4"
      ]
     },
     "execution_count": 47,
     "metadata": {},
     "output_type": "execute_result"
    }
   ],
   "source": [
    "2 ** 2"
   ]
  },
  {
   "cell_type": "code",
   "execution_count": 2,
   "id": "d6da854a-546d-4fe1-b483-0884eb27c6f4",
   "metadata": {},
   "outputs": [],
   "source": [
    "import math"
   ]
  },
  {
   "cell_type": "code",
   "execution_count": 53,
   "id": "6fbf38de-4e41-41f6-a91f-a578c3ec6445",
   "metadata": {},
   "outputs": [
    {
     "data": {
      "text/plain": [
       "7.38905609893065"
      ]
     },
     "execution_count": 53,
     "metadata": {},
     "output_type": "execute_result"
    }
   ],
   "source": [
    "math.exp(2)"
   ]
  },
  {
   "cell_type": "code",
   "execution_count": 57,
   "id": "9cd369db-96fa-430d-b316-94a584301bcb",
   "metadata": {},
   "outputs": [
    {
     "data": {
      "text/plain": [
       "0.733437179756609"
      ]
     },
     "execution_count": 57,
     "metadata": {},
     "output_type": "execute_result"
    }
   ],
   "source": [
    "1/4 + 1/4 * math.exp(-0.0225) + 1/4 * math.exp(-0.045)"
   ]
  },
  {
   "cell_type": "code",
   "execution_count": 60,
   "id": "d0dcd5fb-ae32-45c9-be58-986a0351520a",
   "metadata": {},
   "outputs": [
    {
     "data": {
      "text/plain": [
       "221.1696867655856"
      ]
     },
     "execution_count": 60,
     "metadata": {},
     "output_type": "execute_result"
    }
   ],
   "source": [
    "(206 + .733437179756609) * math.exp(0.0675)"
   ]
  },
  {
   "cell_type": "code",
   "execution_count": 62,
   "id": "24c1e847-85b5-4eb8-91ff-5af680ffda6a",
   "metadata": {},
   "outputs": [
    {
     "data": {
      "text/plain": [
       "22.714289411359275"
      ]
     },
     "execution_count": 62,
     "metadata": {},
     "output_type": "execute_result"
    }
   ],
   "source": [
    "23* math.exp(-0.0125)"
   ]
  },
  {
   "cell_type": "code",
   "execution_count": 65,
   "id": "4a46bb67-c66a-41ff-904a-b1868d9eb5cb",
   "metadata": {},
   "outputs": [
    {
     "data": {
      "text/plain": [
       "11.357144705679637"
      ]
     },
     "execution_count": 65,
     "metadata": {},
     "output_type": "execute_result"
    }
   ],
   "source": [
    "11.5*math.exp(-0.0125)"
   ]
  },
  {
   "cell_type": "code",
   "execution_count": 67,
   "id": "cbe58584-9a7c-411f-8dc3-23ea655ad317",
   "metadata": {},
   "outputs": [
    {
     "data": {
      "text/plain": [
       "43.75655352703284"
      ]
     },
     "execution_count": 67,
     "metadata": {},
     "output_type": "execute_result"
    }
   ],
   "source": [
    "46* math.exp(-0.05)"
   ]
  },
  {
   "cell_type": "code",
   "execution_count": 71,
   "id": "63cc2556-74d3-406f-82af-669920e5d614",
   "metadata": {},
   "outputs": [
    {
     "data": {
      "text/plain": [
       "10.93913838175821"
      ]
     },
     "execution_count": 71,
     "metadata": {},
     "output_type": "execute_result"
    }
   ],
   "source": [
    "11.5 * math.exp(-0.05)"
   ]
  },
  {
   "cell_type": "code",
   "execution_count": 75,
   "id": "dff89605-65a9-4bb6-b7ec-a6e1020297ce",
   "metadata": {},
   "outputs": [
    {
     "data": {
      "text/plain": [
       "21.87827676351642"
      ]
     },
     "execution_count": 75,
     "metadata": {},
     "output_type": "execute_result"
    }
   ],
   "source": [
    "23 * math.exp(-0.05)"
   ]
  },
  {
   "cell_type": "code",
   "execution_count": 77,
   "id": "bea64e99-6d13-43a7-92d4-deeed56c3d74",
   "metadata": {},
   "outputs": [
    {
     "data": {
      "text/plain": [
       "0.951229424500714"
      ]
     },
     "execution_count": 77,
     "metadata": {},
     "output_type": "execute_result"
    }
   ],
   "source": [
    "math.exp(-0.05)"
   ]
  },
  {
   "cell_type": "code",
   "execution_count": 80,
   "id": "ff22529c-aeab-4d9b-a21c-869884182c05",
   "metadata": {},
   "outputs": [
    {
     "data": {
      "text/plain": [
       "22.829506188017135"
      ]
     },
     "execution_count": 80,
     "metadata": {},
     "output_type": "execute_result"
    }
   ],
   "source": [
    "24 * math.exp(-0.05)"
   ]
  },
  {
   "cell_type": "code",
   "execution_count": 83,
   "id": "c464a6e7-a255-418d-b382-da3cfdd1d249",
   "metadata": {},
   "outputs": [
    {
     "data": {
      "text/plain": [
       "4.367004900968286"
      ]
     },
     "execution_count": 83,
     "metadata": {},
     "output_type": "execute_result"
    }
   ],
   "source": [
    "4.5 * math.exp(-0.03)"
   ]
  },
  {
   "cell_type": "code",
   "execution_count": 86,
   "id": "ca706d0c-76f4-4dd8-ae10-f37f126eb142",
   "metadata": {},
   "outputs": [
    {
     "data": {
      "text/plain": [
       "11.357144705679637"
      ]
     },
     "execution_count": 86,
     "metadata": {},
     "output_type": "execute_result"
    }
   ],
   "source": [
    "11.5 * math.exp(-0.0125)"
   ]
  },
  {
   "cell_type": "code",
   "execution_count": 89,
   "id": "303ea2d8-2e8c-42ef-8e4c-3e2402085cf8",
   "metadata": {},
   "outputs": [
    {
     "data": {
      "text/plain": [
       "11.452946525536706"
      ]
     },
     "execution_count": 89,
     "metadata": {},
     "output_type": "execute_result"
    }
   ],
   "source": [
    "11.5*math.exp(-0.0041)"
   ]
  },
  {
   "cell_type": "code",
   "execution_count": 93,
   "id": "508695e6-8f96-4345-8792-38a7e0a58f85",
   "metadata": {},
   "outputs": [
    {
     "data": {
      "text/plain": [
       "11.452946525536706"
      ]
     },
     "execution_count": 93,
     "metadata": {},
     "output_type": "execute_result"
    }
   ],
   "source": [
    "math.exp(-0.0041) * 11.5"
   ]
  },
  {
   "cell_type": "code",
   "execution_count": 96,
   "id": "8eacda08-21ea-4d45-b573-12e42ccf15af",
   "metadata": {},
   "outputs": [
    {
     "data": {
      "text/plain": [
       "12.5"
      ]
     },
     "execution_count": 96,
     "metadata": {},
     "output_type": "execute_result"
    }
   ],
   "source": [
    "50*0.25"
   ]
  },
  {
   "cell_type": "code",
   "execution_count": 99,
   "id": "10af0b18-fd8f-42bf-9473-5da2d00b1bad",
   "metadata": {},
   "outputs": [
    {
     "data": {
      "text/plain": [
       "1.0471000000000004"
      ]
     },
     "execution_count": 99,
     "metadata": {},
     "output_type": "execute_result"
    }
   ],
   "source": [
    "12.5 - 11.4529"
   ]
  },
  {
   "cell_type": "code",
   "execution_count": 101,
   "id": "925a2d95-83c8-4321-bd7c-10b1e4d933b4",
   "metadata": {},
   "outputs": [
    {
     "data": {
      "text/plain": [
       "0.995908393524931"
      ]
     },
     "execution_count": 101,
     "metadata": {},
     "output_type": "execute_result"
    }
   ],
   "source": [
    "math.exp(-0.0041)"
   ]
  },
  {
   "cell_type": "code",
   "execution_count": 104,
   "id": "bfe9fed4-e7b2-4b80-b9e6-ab79aff5ba1b",
   "metadata": {},
   "outputs": [
    {
     "data": {
      "text/plain": [
       "10.93913838175821"
      ]
     },
     "execution_count": 104,
     "metadata": {},
     "output_type": "execute_result"
    }
   ],
   "source": [
    "11.5 * math.exp(-0.05)"
   ]
  },
  {
   "cell_type": "code",
   "execution_count": 107,
   "id": "d8a18800-7716-43f9-8a2f-c6590a03f1c0",
   "metadata": {},
   "outputs": [
    {
     "data": {
      "text/plain": [
       "1.5609000000000002"
      ]
     },
     "execution_count": 107,
     "metadata": {},
     "output_type": "execute_result"
    }
   ],
   "source": [
    "12.5 - 10.9391"
   ]
  },
  {
   "cell_type": "code",
   "execution_count": 109,
   "id": "9fb4a8f8-95c6-4a7f-9835-ae4787ad7866",
   "metadata": {},
   "outputs": [
    {
     "data": {
      "text/plain": [
       "1.010050167084168"
      ]
     },
     "execution_count": 109,
     "metadata": {},
     "output_type": "execute_result"
    }
   ],
   "source": [
    "math.exp(0.01)"
   ]
  },
  {
   "cell_type": "code",
   "execution_count": 111,
   "id": "91b63370-b32e-4b98-9bb0-08ebcd09d0d1",
   "metadata": {},
   "outputs": [
    {
     "data": {
      "text/plain": [
       "3.424"
      ]
     },
     "execution_count": 111,
     "metadata": {},
     "output_type": "execute_result"
    }
   ],
   "source": [
    "8* 0.428"
   ]
  },
  {
   "cell_type": "code",
   "execution_count": 114,
   "id": "72695fd6-4d98-47c2-b9ec-a34de5cf6e2b",
   "metadata": {},
   "outputs": [
    {
     "data": {
      "text/plain": [
       "3.39009900990099"
      ]
     },
     "execution_count": 114,
     "metadata": {},
     "output_type": "execute_result"
    }
   ],
   "source": [
    "3.424/1.01"
   ]
  },
  {
   "cell_type": "code",
   "execution_count": 116,
   "id": "eebf0d56-3712-4d77-9208-27165541d57f",
   "metadata": {},
   "outputs": [
    {
     "data": {
      "text/plain": [
       "7.32"
      ]
     },
     "execution_count": 116,
     "metadata": {},
     "output_type": "execute_result"
    }
   ],
   "source": [
    "15* 0.488"
   ]
  },
  {
   "cell_type": "code",
   "execution_count": 5,
   "id": "ee119ea1-e9ac-4bdf-b235-762296af1954",
   "metadata": {},
   "outputs": [
    {
     "data": {
      "text/plain": [
       "1.010050167084168"
      ]
     },
     "execution_count": 5,
     "metadata": {},
     "output_type": "execute_result"
    }
   ],
   "source": [
    "math.exp(0.01)"
   ]
  },
  {
   "cell_type": "code",
   "execution_count": 9,
   "id": "520ad2f9-dd8d-4f18-8752-961c38d6be12",
   "metadata": {},
   "outputs": [
    {
     "data": {
      "text/plain": [
       "1.3498588075760032"
      ]
     },
     "execution_count": 9,
     "metadata": {},
     "output_type": "execute_result"
    }
   ],
   "source": [
    "math.exp(0.3)"
   ]
  },
  {
   "cell_type": "code",
   "execution_count": 11,
   "id": "5831c184-2d2f-4397-a312-36d3c671e01d",
   "metadata": {},
   "outputs": [
    {
     "data": {
      "text/plain": [
       "0.44984999999999997"
      ]
     },
     "execution_count": 11,
     "metadata": {},
     "output_type": "execute_result"
    }
   ],
   "source": [
    "1.34985 -0.9"
   ]
  },
  {
   "cell_type": "code",
   "execution_count": 15,
   "id": "b7f27538-fae3-4816-8528-50c846455746",
   "metadata": {},
   "outputs": [
    {
     "data": {
      "text/plain": [
       "2.2492"
      ]
     },
     "execution_count": 15,
     "metadata": {},
     "output_type": "execute_result"
    }
   ],
   "source": [
    "0.44984/0.2"
   ]
  },
  {
   "cell_type": "code",
   "execution_count": 18,
   "id": "71ab09a1-a55c-4055-a7c4-13091232da00",
   "metadata": {},
   "outputs": [
    {
     "data": {
      "text/plain": [
       "1.0253151205244289"
      ]
     },
     "execution_count": 18,
     "metadata": {},
     "output_type": "execute_result"
    }
   ],
   "source": [
    "math.exp(0.025)"
   ]
  },
  {
   "cell_type": "code",
   "execution_count": 20,
   "id": "2a2f19a3-90ab-4e6f-86ea-538249fde5bf",
   "metadata": {},
   "outputs": [
    {
     "data": {
      "text/plain": [
       "0.12530999999999992"
      ]
     },
     "execution_count": 20,
     "metadata": {},
     "output_type": "execute_result"
    }
   ],
   "source": [
    "1.02531 - 0.9"
   ]
  },
  {
   "cell_type": "code",
   "execution_count": 22,
   "id": "4d9f23d9-1813-4582-84d0-691b5d5e27d2",
   "metadata": {},
   "outputs": [
    {
     "data": {
      "text/plain": [
       "0.6265"
      ]
     },
     "execution_count": 22,
     "metadata": {},
     "output_type": "execute_result"
    }
   ],
   "source": [
    "0.12530/0.2"
   ]
  },
  {
   "cell_type": "code",
   "execution_count": 25,
   "id": "2f41f8a4-95ca-402e-9cce-900c61d9ab53",
   "metadata": {},
   "outputs": [
    {
     "data": {
      "text/plain": [
       "0.37350000000000005"
      ]
     },
     "execution_count": 25,
     "metadata": {},
     "output_type": "execute_result"
    }
   ],
   "source": [
    "1 - 0.6265"
   ]
  },
  {
   "cell_type": "code",
   "execution_count": 27,
   "id": "888eb4a5-240b-45bb-8bc8-a34b889d733f",
   "metadata": {},
   "outputs": [
    {
     "data": {
      "text/plain": [
       "52.098639999999996"
      ]
     },
     "execution_count": 27,
     "metadata": {},
     "output_type": "execute_result"
    }
   ],
   "source": [
    "(0.6265*61.72) + (0.3735* 35.96)"
   ]
  },
  {
   "cell_type": "code",
   "execution_count": 29,
   "id": "068ee5ac-a45f-49d5-ba0e-4ecb029ad0bf",
   "metadata": {},
   "outputs": [
    {
     "data": {
      "text/plain": [
       "50.81228098279929"
      ]
     },
     "execution_count": 29,
     "metadata": {},
     "output_type": "execute_result"
    }
   ],
   "source": [
    "52.0986* math.exp(-0.025)"
   ]
  },
  {
   "cell_type": "code",
   "execution_count": 30,
   "id": "4f83e257-2eb9-4898-a745-47cb497f9ea2",
   "metadata": {},
   "outputs": [
    {
     "data": {
      "text/plain": [
       "0.9753099120283326"
      ]
     },
     "execution_count": 30,
     "metadata": {},
     "output_type": "execute_result"
    }
   ],
   "source": [
    "math.exp(-0.025)"
   ]
  }
 ],
 "metadata": {
  "kernelspec": {
   "display_name": "Python 3",
   "language": "python",
   "name": "python3"
  },
  "language_info": {
   "codemirror_mode": {
    "name": "ipython",
    "version": 3
   },
   "file_extension": ".py",
   "mimetype": "text/x-python",
   "name": "python",
   "nbconvert_exporter": "python",
   "pygments_lexer": "ipython3",
   "version": "3.8.8"
  }
 },
 "nbformat": 4,
 "nbformat_minor": 5
}
