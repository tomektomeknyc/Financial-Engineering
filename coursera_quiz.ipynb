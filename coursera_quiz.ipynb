{
 "cells": [
  {
   "cell_type": "code",
   "execution_count": 25,
   "id": "46e1618c-a1e6-42ec-b513-b1214550e135",
   "metadata": {},
   "outputs": [
    {
     "name": "stdout",
     "output_type": "stream",
     "text": [
      "The autoreload extension is already loaded. To reload it, use:\n",
      "  %reload_ext autoreload\n"
     ]
    },
    {
     "data": {
      "text/plain": [
       "61.62"
      ]
     },
     "execution_count": 25,
     "metadata": {},
     "output_type": "execute_result"
    }
   ],
   "source": [
    "%load_ext autoreload\n",
    "%autoreload 2\n",
    "import pandas as pd\n",
    "import numpy as np\n",
    "import risk_kit as rk\n",
    "import scipy.optimize as opt\n",
    "from pricing_models import LevelPaymentMortgage, StockPricing, FuturesPricing, OptionsPricing, BondPricing, ForwardsPricing, SwapsPricing, PassThroughMBS\n",
    "\n",
    "\n",
    "n = 10\n",
    "r00 = 0.05\n",
    "u = 1.1\n",
    "d = 0.9\n",
    "q = 0.5\n",
    "\n",
    "rate_model = StockPricing(n, r00, u, d)\n",
    "\n",
    "## Q1 Compute the price of ZCB that matures at t = 10, with face value = 100.\n",
    "\n",
    "F = 100\n",
    "\n",
    "bond_pricing = BondPricing(n=n, F=F, q=q, r = rate_model, c=0)\n",
    "round(bond_pricing.price, 2)\n"
   ]
  },
  {
   "cell_type": "code",
   "execution_count": 12,
   "id": "e9e3bbd4-b37d-4cc9-9427-78d25c6c6992",
   "metadata": {},
   "outputs": [
    {
     "data": {
      "text/plain": [
       "74.88"
      ]
     },
     "execution_count": 12,
     "metadata": {},
     "output_type": "execute_result"
    }
   ],
   "source": [
    "# Q 2 Compute the price of forward contract on the same ZCB where forward matures at t= 4\n",
    "\n",
    "n = 4\n",
    "forward_price = ForwardsPricing(n, bond_pricing, q, rate_model)\n",
    "round(forward_price.price, 2)"
   ]
  },
  {
   "cell_type": "code",
   "execution_count": 14,
   "id": "4a88e1bc-0b2d-4f0b-a094-d58b74c0e10f",
   "metadata": {},
   "outputs": [
    {
     "data": {
      "text/plain": [
       "74.82"
      ]
     },
     "execution_count": 14,
     "metadata": {},
     "output_type": "execute_result"
    }
   ],
   "source": [
    "# Compute the intital price od futures contract on ZCB. The contract has expiration of t= 4\n",
    "\n",
    "future_price = FuturesPricing(n, bond_pricing, q)\n",
    "round(future_price.price, 2)"
   ]
  },
  {
   "cell_type": "code",
   "execution_count": 19,
   "id": "d7480dae-1849-4c51-aef5-476b0fa49a42",
   "metadata": {},
   "outputs": [
    {
     "data": {
      "text/plain": [
       "2.36"
      ]
     },
     "execution_count": 19,
     "metadata": {},
     "output_type": "execute_result"
    }
   ],
   "source": [
    "# Q 4 Compute the price of American call option on ZCB. The option has expiration t = 6 and k = 80\n",
    "\n",
    "n= 6\n",
    "strike = 80\n",
    "is_call = True\n",
    "is_american = True\n",
    "\n",
    "option_price = OptionsPricing(n, bond_pricing, rate_model, q, strike, is_call , is_american)\n",
    "round(option_price.price, 2)"
   ]
  },
  {
   "cell_type": "code",
   "execution_count": 22,
   "id": "addf2ddb-7511-41de-af7f-2040f19ad171",
   "metadata": {},
   "outputs": [
    {
     "data": {
      "text/plain": [
       "2147.29"
      ]
     },
     "execution_count": 22,
     "metadata": {},
     "output_type": "execute_result"
    }
   ],
   "source": [
    "T = 30\n",
    "r = 0.05\n",
    "P = 400000\n",
    "loan = LevelPaymentMortgage(P,r, T)\n",
    "round(loan.monthly_payment, 2)"
   ]
  },
  {
   "cell_type": "code",
   "execution_count": 27,
   "id": "e4a723d7-d49d-4351-a264-517b1890921c",
   "metadata": {},
   "outputs": [
    {
     "data": {
      "text/html": [
       "<div>\n",
       "<style scoped>\n",
       "    .dataframe tbody tr th:only-of-type {\n",
       "        vertical-align: middle;\n",
       "    }\n",
       "\n",
       "    .dataframe tbody tr th {\n",
       "        vertical-align: top;\n",
       "    }\n",
       "\n",
       "    .dataframe thead th {\n",
       "        text-align: right;\n",
       "    }\n",
       "</style>\n",
       "<table border=\"1\" class=\"dataframe\">\n",
       "  <thead>\n",
       "    <tr style=\"text-align: right;\">\n",
       "      <th></th>\n",
       "      <th>Total Payment Received</th>\n",
       "      <th>Principal Received</th>\n",
       "      <th>Interest Received</th>\n",
       "      <th>Total Amount Paid</th>\n",
       "      <th>Principal Paid</th>\n",
       "      <th>Interest Paid</th>\n",
       "      <th>Earning</th>\n",
       "      <th>Prepayment Rate</th>\n",
       "      <th>Prepayment Amount</th>\n",
       "      <th>Total OutStanding Amount</th>\n",
       "    </tr>\n",
       "  </thead>\n",
       "  <tbody>\n",
       "    <tr>\n",
       "      <th>1</th>\n",
       "      <td>2.865724</td>\n",
       "      <td>0.865724</td>\n",
       "      <td>2.000000</td>\n",
       "      <td>2.598974</td>\n",
       "      <td>0.932308</td>\n",
       "      <td>1.666667</td>\n",
       "      <td>0.266750</td>\n",
       "      <td>0.000167</td>\n",
       "      <td>0.066583</td>\n",
       "      <td>399.067692</td>\n",
       "    </tr>\n",
       "    <tr>\n",
       "      <th>2</th>\n",
       "      <td>2.865246</td>\n",
       "      <td>0.869908</td>\n",
       "      <td>1.995338</td>\n",
       "      <td>2.665666</td>\n",
       "      <td>1.002884</td>\n",
       "      <td>1.662782</td>\n",
       "      <td>0.199580</td>\n",
       "      <td>0.000334</td>\n",
       "      <td>0.132977</td>\n",
       "      <td>398.064808</td>\n",
       "    </tr>\n",
       "    <tr>\n",
       "      <th>3</th>\n",
       "      <td>2.864289</td>\n",
       "      <td>0.873965</td>\n",
       "      <td>1.990324</td>\n",
       "      <td>2.731712</td>\n",
       "      <td>1.073109</td>\n",
       "      <td>1.658603</td>\n",
       "      <td>0.132577</td>\n",
       "      <td>0.000501</td>\n",
       "      <td>0.199144</td>\n",
       "      <td>396.991699</td>\n",
       "    </tr>\n",
       "    <tr>\n",
       "      <th>4</th>\n",
       "      <td>2.862853</td>\n",
       "      <td>0.877895</td>\n",
       "      <td>1.984958</td>\n",
       "      <td>2.797076</td>\n",
       "      <td>1.142944</td>\n",
       "      <td>1.654132</td>\n",
       "      <td>0.065777</td>\n",
       "      <td>0.000669</td>\n",
       "      <td>0.265049</td>\n",
       "      <td>395.848755</td>\n",
       "    </tr>\n",
       "    <tr>\n",
       "      <th>5</th>\n",
       "      <td>2.860938</td>\n",
       "      <td>0.881694</td>\n",
       "      <td>1.979244</td>\n",
       "      <td>2.861721</td>\n",
       "      <td>1.212351</td>\n",
       "      <td>1.649370</td>\n",
       "      <td>-0.000784</td>\n",
       "      <td>0.000837</td>\n",
       "      <td>0.330657</td>\n",
       "      <td>394.636404</td>\n",
       "    </tr>\n",
       "  </tbody>\n",
       "</table>\n",
       "</div>"
      ],
      "text/plain": [
       "   Total Payment Received  Principal Received  Interest Received  \\\n",
       "1                2.865724            0.865724           2.000000   \n",
       "2                2.865246            0.869908           1.995338   \n",
       "3                2.864289            0.873965           1.990324   \n",
       "4                2.862853            0.877895           1.984958   \n",
       "5                2.860938            0.881694           1.979244   \n",
       "\n",
       "   Total Amount Paid  Principal Paid  Interest Paid   Earning  \\\n",
       "1           2.598974        0.932308       1.666667  0.266750   \n",
       "2           2.665666        1.002884       1.662782  0.199580   \n",
       "3           2.731712        1.073109       1.658603  0.132577   \n",
       "4           2.797076        1.142944       1.654132  0.065777   \n",
       "5           2.861721        1.212351       1.649370 -0.000784   \n",
       "\n",
       "   Prepayment Rate  Prepayment Amount  Total OutStanding Amount  \n",
       "1         0.000167           0.066583                399.067692  \n",
       "2         0.000334           0.132977                398.064808  \n",
       "3         0.000501           0.199144                396.991699  \n",
       "4         0.000669           0.265049                395.848755  \n",
       "5         0.000837           0.330657                394.636404  "
      ]
     },
     "execution_count": 27,
     "metadata": {},
     "output_type": "execute_result"
    }
   ],
   "source": [
    "P = 400\n",
    "T = 20\n",
    "rate_received = 0.06\n",
    "rate_paid = 0.05\n",
    "PSA = 100\n",
    "\n",
    "mortgage_pool = PassThroughMBS ( P=P, T=T, loan_r = rate_received,\n",
    "                               pass_r = rate_paid,\n",
    "                               PSA=PSA)\n",
    "mortgage_pool.data.head()"
   ]
  },
  {
   "cell_type": "code",
   "execution_count": 29,
   "id": "bb6fb34c-bed5-4811-befb-c856b8e9bf26",
   "metadata": {},
   "outputs": [
    {
     "data": {
      "text/plain": [
       "171.18"
      ]
     },
     "execution_count": 29,
     "metadata": {},
     "output_type": "execute_result"
    }
   ],
   "source": [
    "round(mortgage_pool.data['Interest Paid'].sum(),2)"
   ]
  },
  {
   "cell_type": "code",
   "execution_count": 32,
   "id": "174c9c03-c20b-4b3b-810b-c121e5c5ede2",
   "metadata": {},
   "outputs": [
    {
     "data": {
      "text/plain": [
       "181.09"
      ]
     },
     "execution_count": 32,
     "metadata": {},
     "output_type": "execute_result"
    }
   ],
   "source": [
    "round(mortgage_pool.data['Prepayment Amount'].sum(),2)"
   ]
  },
  {
   "cell_type": "code",
   "execution_count": 34,
   "id": "0458e45f-de13-46fd-b07c-d45ab46c593e",
   "metadata": {},
   "outputs": [
    {
     "data": {
      "text/plain": [
       "268.15"
      ]
     },
     "execution_count": 34,
     "metadata": {},
     "output_type": "execute_result"
    }
   ],
   "source": [
    "PSA = 200\n",
    "mortgage_pool  = PassThroughMBS(P=P, T=T,\n",
    "                               loan_r = rate_received,\n",
    "                               pass_r = rate_paid,\n",
    "                               PSA=PSA)\n",
    "round(mortgage_pool.data['Prepayment Amount'].sum(), 2)"
   ]
  },
  {
   "cell_type": "code",
   "execution_count": null,
   "id": "2c873d9c-b4ce-46cc-a54a-f6f93fa1b6eb",
   "metadata": {},
   "outputs": [],
   "source": []
  }
 ],
 "metadata": {
  "kernelspec": {
   "display_name": "Python 3",
   "language": "python",
   "name": "python3"
  },
  "language_info": {
   "codemirror_mode": {
    "name": "ipython",
    "version": 3
   },
   "file_extension": ".py",
   "mimetype": "text/x-python",
   "name": "python",
   "nbconvert_exporter": "python",
   "pygments_lexer": "ipython3",
   "version": "3.8.8"
  }
 },
 "nbformat": 4,
 "nbformat_minor": 5
}
